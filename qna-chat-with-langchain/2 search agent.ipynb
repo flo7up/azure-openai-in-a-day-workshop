{
 "cells": [
  {
   "cell_type": "markdown",
   "metadata": {},
   "source": [
    "# Agents\n",
    "By themselves, language models can't take actions - they just output text. A big use case for LangChain is creating agents. \n",
    "Agents are systems that use an LLM as a reasoning enginer to determine which actions to take and what the inputs to those actions should be. \n",
    "The results of those actions can then be fed back into the agent and it determine whether more actions are needed, or whether it is okay to finish."
   ]
  },
  {
   "cell_type": "code",
   "execution_count": 15,
   "metadata": {},
   "outputs": [],
   "source": [
    "# Import relevant functionality\n",
    "import os\n",
    "import openai\n",
    "from dotenv import load_dotenv\n",
    "from langchain_openai import AzureChatOpenAI\n",
    "from langchain_community.tools.tavily_search import TavilySearchResults\n",
    "from langchain_core.messages import HumanMessage\n",
    "from langgraph.checkpoint.sqlite import SqliteSaver\n",
    "from langgraph.prebuilt import create_react_agent\n",
    "\n",
    "# Load environment variables (set OPENAI_API_KEY and OPENAI_API_BASE in .env)\n",
    "load_dotenv()\n",
    "\n",
    "# Configure Azure OpenAI Service API\n",
    "openai.api_type = \"azure\"\n",
    "openai.api_version = os.getenv(\"AZURE_OPENAI_VERSION\")\n",
    "openai.api_base = os.getenv('OPENAI_API_ENDPOINT')\n",
    "openai.api_key = os.getenv(\"OPENAI_API_KEY\")\n",
    "\n"
   ]
  },
  {
   "cell_type": "code",
   "execution_count": 20,
   "metadata": {},
   "outputs": [
    {
     "name": "stdout",
     "output_type": "stream",
     "text": [
      "{'agent': {'messages': [AIMessage(content=\"Hi Bob! It's great to meet you. How can I assist you today?\", response_metadata={'token_usage': {'completion_tokens': 17, 'prompt_tokens': 88, 'total_tokens': 105}, 'model_name': 'gpt-4o-2024-05-13', 'system_fingerprint': 'fp_5f4bad809a', 'finish_reason': 'stop', 'logprobs': None, 'content_filter_results': {}}, id='run-9c71352a-61c5-412e-99c9-0d583165e271-0', usage_metadata={'input_tokens': 88, 'output_tokens': 17, 'total_tokens': 105})]}}\n",
      "----\n",
      "{'agent': {'messages': [AIMessage(content='', additional_kwargs={'tool_calls': [{'id': 'call_a5q1HIcyOd67ridtGlZk5TY6', 'function': {'arguments': '{\"query\":\"current weather in San Francisco\"}', 'name': 'tavily_search_results_json'}, 'type': 'function'}]}, response_metadata={'token_usage': {'completion_tokens': 22, 'prompt_tokens': 120, 'total_tokens': 142}, 'model_name': 'gpt-4o-2024-05-13', 'system_fingerprint': 'fp_5f4bad809a', 'finish_reason': 'tool_calls', 'logprobs': None, 'content_filter_results': {}}, id='run-85afefd5-9612-418f-a171-b1dc84c03ba7-0', tool_calls=[{'name': 'tavily_search_results_json', 'args': {'query': 'current weather in San Francisco'}, 'id': 'call_a5q1HIcyOd67ridtGlZk5TY6'}], usage_metadata={'input_tokens': 120, 'output_tokens': 22, 'total_tokens': 142})]}}\n",
      "----\n",
      "{'tools': {'messages': [ToolMessage(content='[{\"url\": \"https://www.weatherapi.com/\", \"content\": \"{\\'location\\': {\\'name\\': \\'San Francisco\\', \\'region\\': \\'California\\', \\'country\\': \\'United States of America\\', \\'lat\\': 37.78, \\'lon\\': -122.42, \\'tz_id\\': \\'America/Los_Angeles\\', \\'localtime_epoch\\': 1717505750, \\'localtime\\': \\'2024-06-04 5:55\\'}, \\'current\\': {\\'last_updated_epoch\\': 1717505100, \\'last_updated\\': \\'2024-06-04 05:45\\', \\'temp_c\\': 8.0, \\'temp_f\\': 46.4, \\'is_day\\': 1, \\'condition\\': {\\'text\\': \\'Mist\\', \\'icon\\': \\'//cdn.weatherapi.com/weather/64x64/day/143.png\\', \\'code\\': 1030}, \\'wind_mph\\': 2.2, \\'wind_kph\\': 3.6, \\'wind_degree\\': 10, \\'wind_dir\\': \\'N\\', \\'pressure_mb\\': 1014.0, \\'pressure_in\\': 29.95, \\'precip_mm\\': 0.0, \\'precip_in\\': 0.0, \\'humidity\\': 100, \\'cloud\\': 100, \\'feelslike_c\\': 7.7, \\'feelslike_f\\': 45.9, \\'windchill_c\\': 12.8, \\'windchill_f\\': 55.0, \\'heatindex_c\\': 12.6, \\'heatindex_f\\': 54.6, \\'dewpoint_c\\': 9.6, \\'dewpoint_f\\': 49.2, \\'vis_km\\': 9.7, \\'vis_miles\\': 6.0, \\'uv\\': 1.0, \\'gust_mph\\': 5.5, \\'gust_kph\\': 8.8}}\"}, {\"url\": \"https://www.wunderground.com/hourly/us/ca/san-francisco/date/2024-4-1\", \"content\": \"8:44 PM. Astronomical Twilight. 5:03 AM. 9:18 PM. Length of Visible Light. h m. Moon. San Francisco Weather Forecasts. Weather Underground provides local & long-range weather forecasts ...\"}]', name='tavily_search_results_json', tool_call_id='call_a5q1HIcyOd67ridtGlZk5TY6')]}}\n",
      "----\n",
      "{'agent': {'messages': [AIMessage(content='Currently in San Francisco, the weather is as follows:\\n- **Temperature:** 8.0°C (46.4°F)\\n- **Condition:** Mist\\n- **Wind:** 2.2 mph (3.6 kph) from the North\\n- **Humidity:** 100%\\n- **Cloud Cover:** 100%\\n- **Visibility:** 9.7 km (6.0 miles)\\n- **Pressure:** 1014.0 mb\\n- **UV Index:** ', response_metadata={'token_usage': {'completion_tokens': 100, 'prompt_tokens': 640, 'total_tokens': 740}, 'model_name': 'gpt-4o-2024-05-13', 'system_fingerprint': 'fp_5f4bad809a', 'finish_reason': 'length', 'logprobs': None, 'content_filter_results': {}}, id='run-5796f052-2dab-40ac-b3b0-b90f7d932c86-0', usage_metadata={'input_tokens': 640, 'output_tokens': 100, 'total_tokens': 740})]}}\n",
      "----\n"
     ]
    }
   ],
   "source": [
    "# Create the Azure OpenAI model\n",
    "llm = AzureChatOpenAI(\n",
    "    deployment_name=\"gpt4o\",  # replace with your deployment name\n",
    "    temperature=0.5,\n",
    "    max_tokens=100,\n",
    "    openai_api_version=\"2023-03-15-preview\"\n",
    ")\n",
    "\n",
    "# Create the search tool\n",
    "search = TavilySearchResults(max_results=2)\n",
    "tools = [search]\n",
    "\n",
    "# Create the agent with memory\n",
    "memory = SqliteSaver.from_conn_string(\":memory:\")\n",
    "agent_executor = create_react_agent(llm, tools, checkpointer=memory)\n",
    "\n",
    "# Configuration for conversation thread\n",
    "config = {\"configurable\": {\"thread_id\": \"abc123\"}}\n",
    "\n",
    "# Use the agent for conversation\n",
    "for chunk in agent_executor.stream(\n",
    "    {\"messages\": [HumanMessage(content=\"hi im bob! and i live in sf\")]}, config\n",
    "):\n",
    "    print(chunk)\n",
    "    print(\"----\")\n",
    "\n",
    "for chunk in agent_executor.stream(\n",
    "    {\"messages\": [HumanMessage(content=\"whats the weather where I live?\")]}, config\n",
    "):\n",
    "    print(chunk)\n",
    "    print(\"----\")\n"
   ]
  }
 ],
 "metadata": {
  "kernelspec": {
   "display_name": "basiclc",
   "language": "python",
   "name": "python3"
  },
  "language_info": {
   "codemirror_mode": {
    "name": "ipython",
    "version": 3
   },
   "file_extension": ".py",
   "mimetype": "text/x-python",
   "name": "python",
   "nbconvert_exporter": "python",
   "pygments_lexer": "ipython3",
   "version": "3.11.9"
  }
 },
 "nbformat": 4,
 "nbformat_minor": 2
}
