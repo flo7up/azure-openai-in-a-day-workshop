{
 "cells": [
  {
   "attachments": {},
   "cell_type": "markdown",
   "metadata": {},
   "source": [
    "# Step #1 Azure OpenAI Service - Chat on private data using LangChain\n",
    "\n",
    "Import note this tutorial is for langchain 0.2\n",
    "The functions below might not work with other langchain versions"
   ]
  },
  {
   "cell_type": "code",
   "execution_count": 52,
   "metadata": {},
   "outputs": [],
   "source": [
    "import os\n",
    "import openai\n",
    "from dotenv import load_dotenv\n",
    "from langchain_openai import AzureChatOpenAI\n",
    "\n",
    "# Load environment variables (set OPENAI_API_KEY and OPENAI_API_BASE in .env)\n",
    "load_dotenv()\n",
    "\n",
    "# Configure Azure OpenAI Service API\n",
    "openai.api_type = \"azure\"\n",
    "openai.api_version = os.getenv(\"AZURE_OPENAI_VERSION\")\n",
    "openai.api_base = os.getenv('OPENAI_API_ENDPOINT')\n",
    "openai.api_key = os.getenv(\"OPENAI_API_KEY\")"
   ]
  },
  {
   "cell_type": "markdown",
   "metadata": {},
   "source": [
    "# Step #2 Define an LLM Config and Invoke it\n",
    "First, we will simply invoke the LLM with a basic prompt.\n"
   ]
  },
  {
   "cell_type": "code",
   "execution_count": 53,
   "metadata": {},
   "outputs": [
    {
     "name": "stdout",
     "output_type": "stream",
     "text": [
      "Sure, here's a joke for you:\n",
      "\n",
      "Why don't skeletons fight each other?\n",
      "\n",
      "They don't have the guts!\n"
     ]
    }
   ],
   "source": [
    "# Init LLM and embeddings model\n",
    "llm = AzureChatOpenAI(deployment_name=\"gpt4o\", \n",
    "                      temperature=0.5,\n",
    "                      max_tokens=100, \n",
    "                      openai_api_version=\"2023-03-15-preview\")\n",
    "\n",
    "response = llm.invoke(\"Tell me a joke\")\n",
    "print(response.content)"
   ]
  },
  {
   "cell_type": "markdown",
   "metadata": {},
   "source": [
    "# Step #3 Two Agents Interact with Each Other\n",
    "The core idea of agents is to use a language model to choose a sequence of actions to take. \n",
    "In chains, a sequence of actions is hardcoded (in code). \n",
    "In agents, a language model is used as a reasoning engine to determine which actions to take and in which order.\n",
    "More information: https://python.langchain.com/v0.1/docs/modules/agents/\n",
    "\n",
    "Next we will determine the behavior of our llms configs. This allows us to reuse them for different purposes."
   ]
  },
  {
   "cell_type": "code",
   "execution_count": 62,
   "metadata": {},
   "outputs": [
    {
     "name": "stdout",
     "output_type": "stream",
     "text": [
      "[Your Name]  \n",
      "[Your Address]  \n",
      "[City, State, ZIP Code]  \n",
      "[Email Address]  \n",
      "[Phone Number]  \n",
      "[Date]\n",
      "\n",
      "Hiring Manager  \n",
      "[Company Name]  \n",
      "[Company Address]  \n",
      "[City, State, ZIP Code]\n",
      "\n",
      "Dear Hiring Manager,\n",
      "\n",
      "I am writing to express my interest in the Software Engineer position at [Company Name], as advertised on [where you found the job posting]. With a robust background in software development, a passion for problem-solving, and a commitment to continuous learning, I am excited about the opportunity to contribute to your innovative team.\n",
      "\n",
      "I hold a [Your Degree] in [Your Major] from [Your University], where I developed a solid foundation in computer science principles. My professional experience includes [Number] years at [Previous Company], where I honed my skills in [relevant technologies, programming languages, or frameworks]. During my tenure, I successfully led several projects, including [briefly describe significant projects or achievements], which enhanced my ability to deliver high-quality software solutions on time and within scope.\n",
      "\n",
      "One of the aspects of [Company Name] that particularly excites me is your commitment to [mention a specific value, mission, or project of the company that resonates with you]. I am eager to bring my expertise in [mention any specific skills or technologies relevant to the job] to your team to help drive these initiatives forward.\n",
      "\n",
      "In addition to my technical skills, I am a strong communicator and collaborator, adept at working in cross\n",
      "-functional teams to achieve common goals. My ability to translate complex technical concepts into easily understandable terms has been instrumental in fostering productive relationships with both technical and non-technical stakeholders.\n",
      "\n",
      "I am particularly drawn to [Company Name] because of [specific reason related to the company's culture, products, or industry reputation]. I am confident that my background and skills align well with the needs of your team and that I can make a significant contribution to your ongoing projects.\n",
      "\n",
      "Thank you for considering my application. I look forward to the opportunity to discuss how my background, skills, and enthusiasms can be in line with the goals of [Company Name]. Please find my resume attached for your review. I am available at your earliest convenience for an interview and can be reached at [your phone number] or [your email address].\n",
      "\n",
      "Sincerely,\n",
      "\n",
      "[Your Name]\n",
      "\n",
      "---\n",
      "\n",
      "### Review and Suggestions for Improvement:\n",
      "\n",
      "1. **Personalization and Specificity**:\n",
      "    - **Current**: The letter is well-structured but lacks specific details that make it unique to the company.\n",
      "    - **Suggestion**: Research the company thoroughly and include specific projects, products, or initiatives they are known for. For example, instead of \"[mention a specific value, mission, or project of the company that resonates with you],\" you could write \"One of the aspects of [Company Name] that particularly excites me is your commitment to sustainable technology solutions, as evidenced by your recent project on renewable energy integration.\"\n",
      "\n",
      "2. **Quantify Achievements**:\n",
      "    - **Current**: \"During my tenure, I successfully led several projects, including [briefly describe significant projects or achievements].\"\n",
      "    - **Suggestion**: Quantify your achievements to provide concrete evidence of your impact. For example, \"During my tenure, I successfully led several projects, including the development of a customer management system that reduced processing time by 30% and increased customer satisfaction by 20%.\"\n",
      "\n",
      "3. **Tailor Your Skills to the Job**:\n",
      "    - **Current**: \"I am eager to bring my expertise in [mention any specific skills or technologies relevant to the job] to your team.\"\n",
      "    - **Suggestion**: Tailor this section to the job description. For example, \"I am eager to bring my expertise in Python, Java, and cloud computing to your team, particularly to support your initiatives in developing scalable and efficient software solutions.\"\n",
      "\n",
      "4. **Professional Tone**:\n",
      "    - **Current**: The tone is professional but\n"
     ]
    }
   ],
   "source": [
    "# Define configuration with system instructions\n",
    "config_writer = {\n",
    "    \"deployment_name\": \"gpt4o\",\n",
    "    \"temperature\": 0.6,\n",
    "    \"max_tokens\": 300,\n",
    "    \"openai_api_version\": \"2023-03-15-preview\",\n",
    "    \"instruction\": \"You are a creative writing assistant.\"\n",
    "}\n",
    "\n",
    "# Init LLM model\n",
    "llm_writer = AzureChatOpenAI(deployment_name=config_writer[\"deployment_name\"], \n",
    "                      temperature=config_writer[\"temperature\"],\n",
    "                      max_tokens=config_writer[\"max_tokens\"], \n",
    "                      openai_api_version=config_writer[\"openai_api_version\"])\n",
    "\n",
    "# Add system instruction to the prompt\n",
    "user_prompt = 'Write an application letter for a job as a software engineer.'\n",
    "response = llm_writer.invoke(f'{config_writer[\"instruction\"]} ' + user_prompt)\n",
    "content = response.content\n",
    "print(content)\n",
    "config_reviewer = {\n",
    "    \"deployment_name\": \"gpt4o\",\n",
    "    \"temperature\": 0.4,\n",
    "    \"max_tokens\": 500,\n",
    "    \"openai_api_version\": \"2023-03-15-preview\",\n",
    "    \"instruction\": \"You are a critical reviewer, who's an expert in reviewing others content and providing helpful advice for improvements.\" \n",
    "}\n",
    "\n",
    "# Init LLM model\n",
    "llm_params = {key: config_reviewer[key] for key in config_reviewer if key != \"instruction\"}  # Exclude 'instruction'\n",
    "llm_reviewer = AzureChatOpenAI(**llm_params)\n",
    "\n",
    "user_prompt = 'Review the following content: ' + content\n",
    "response = llm_reviewer.invoke(f'{config_reviewer[\"instruction\"]} ' + user_prompt)\n",
    "content = response.content\n",
    "print(content)"
   ]
  }
 ],
 "metadata": {
  "kernelspec": {
   "display_name": "openai-qna-env",
   "language": "python",
   "name": "python3"
  },
  "language_info": {
   "codemirror_mode": {
    "name": "ipython",
    "version": 3
   },
   "file_extension": ".py",
   "mimetype": "text/x-python",
   "name": "python",
   "nbconvert_exporter": "python",
   "pygments_lexer": "ipython3",
   "version": "3.11.9"
  },
  "orig_nbformat": 4,
  "vscode": {
   "interpreter": {
    "hash": "c4ee1bbf3137c7ea9420c4fd488a55642063e5739fe2a7286130d9ba47405b69"
   }
  }
 },
 "nbformat": 4,
 "nbformat_minor": 2
}
