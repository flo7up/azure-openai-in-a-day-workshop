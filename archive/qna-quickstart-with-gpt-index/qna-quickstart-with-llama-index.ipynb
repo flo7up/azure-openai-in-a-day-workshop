{
 "cells": [
  {
   "attachments": {},
   "cell_type": "markdown",
   "metadata": {},
   "source": [
    "# Azure OpenAI Service - Q&A with semantic answering using LlamaIndex 🦙 (GPT Index)\n",
    "\n",
    "Firstly, create a file called `.env` in this folder, and add the following content, obviously with your values:\n",
    "\n",
    "```\n",
    "OPENAI_API_KEY=xxxxxx\n",
    "OPENAI_API_BASE=https://xxxxxxx.openai.azure.com/\n",
    "```\n",
    "\n",
    "Then, let's install all dependencies:"
   ]
  },
  {
   "cell_type": "code",
   "execution_count": null,
   "metadata": {},
   "outputs": [],
   "source": [
    "!pip install -r ../requirements.txt"
   ]
  },
  {
   "cell_type": "code",
   "execution_count": 1,
   "metadata": {},
   "outputs": [
    {
     "name": "stderr",
     "output_type": "stream",
     "text": [
      "INFO:llama_index.token_counter.token_counter:> [build_index_from_documents] Total LLM token usage: 0 tokens\n",
      "INFO:llama_index.token_counter.token_counter:> [build_index_from_documents] Total embedding token usage: 4756 tokens\n"
     ]
    }
   ],
   "source": [
    "import os\n",
    "import openai\n",
    "from dotenv import load_dotenv\n",
    "from llama_index import GPTSimpleVectorIndex, SimpleDirectoryReader, LLMPredictor, PromptHelper, LangchainEmbedding\n",
    "from langchain.llms import AzureOpenAI\n",
    "from langchain.embeddings import OpenAIEmbeddings\n",
    "\n",
    "# Load environment variables (set OPENAI_API_KEY and OPENAI_API_BASE in .env)\n",
    "load_dotenv()\n",
    "\n",
    "# Configure Azure OpenAI Service API\n",
    "openai.api_type = \"azure\"\n",
    "openai.api_version = \"2022-12-01\"\n",
    "openai.api_base = os.getenv('OPENAI_API_BASE')\n",
    "openai.api_key = os.getenv(\"OPENAI_API_KEY\")\n",
    "\n",
    "llm = AzureOpenAI(deployment_name=\"text-davinci-003\")\n",
    "llm_predictor = LLMPredictor(llm=llm)\n",
    "embedding_llm = LangchainEmbedding(OpenAIEmbeddings())\n",
    "\n",
    "documents = SimpleDirectoryReader('../data/qna/').load_data()\n",
    "\n",
    "# Define prompt helper\n",
    "max_input_size = 3000\n",
    "num_output = 256\n",
    "chunk_size_limit = 1000\n",
    "max_chunk_overlap = 20\n",
    "prompt_helper = PromptHelper(max_input_size=max_input_size, num_output=num_output, max_chunk_overlap=max_chunk_overlap, chunk_size_limit=chunk_size_limit)\n",
    "\n",
    "# Create index\n",
    "index = GPTSimpleVectorIndex(documents, llm_predictor=llm_predictor, embed_model=embedding_llm, prompt_helper=prompt_helper)\n",
    "index.save_to_disk(\"index.json\")"
   ]
  },
  {
   "cell_type": "code",
   "execution_count": 2,
   "metadata": {},
   "outputs": [
    {
     "name": "stderr",
     "output_type": "stream",
     "text": [
      "INFO:llama_index.token_counter.token_counter:> [query] Total LLM token usage: 1101 tokens\n",
      "INFO:llama_index.token_counter.token_counter:> [query] Total embedding token usage: 15 tokens\n"
     ]
    },
    {
     "name": "stdout",
     "output_type": "stream",
     "text": [
      "\n",
      "- Azure OpenAI service provides REST API access to OpenAI's powerful language models\n",
      "- Models available include GPT-3 base series, Codex series, and Embeddings series\n",
      "- Fine-tuning can be done using Ada, Babbage, Curie, Cushman, and Davinci (available by request)\n",
      "- Price information is available on the Azure pricing page\n",
      "- Supports Virtual Network and Managed Identity via Azure Active Directory\n",
      "- UI experience is available through Azure Portal and Azure OpenAI Service Studio\n",
      "- Available in East US, South Central US, and West Europe\n",
      "- Content filtering is in place to filter out high severity content\n",
      "- Requires an application for initial access and use case review before production use\n",
      "- Co-developed APIs with OpenAI for security and enterprise capabilities with the same models as OpenAI\n"
     ]
    }
   ],
   "source": [
    "response = index.query(\"What is azure openai service? give me back a bullet point list\")\n",
    "print(response)"
   ]
  }
 ],
 "metadata": {
  "kernelspec": {
   "display_name": "openai-qna-env",
   "language": "python",
   "name": "python3"
  },
  "language_info": {
   "codemirror_mode": {
    "name": "ipython",
    "version": 3
   },
   "file_extension": ".py",
   "mimetype": "text/x-python",
   "name": "python",
   "nbconvert_exporter": "python",
   "pygments_lexer": "ipython3",
   "version": "3.10.9"
  },
  "orig_nbformat": 4,
  "vscode": {
   "interpreter": {
    "hash": "c4ee1bbf3137c7ea9420c4fd488a55642063e5739fe2a7286130d9ba47405b69"
   }
  }
 },
 "nbformat": 4,
 "nbformat_minor": 2
}
